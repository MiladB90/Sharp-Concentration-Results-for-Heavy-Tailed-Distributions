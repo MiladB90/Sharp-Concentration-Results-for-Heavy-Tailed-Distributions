{
  "cells": [
    {
      "cell_type": "markdown",
      "metadata": {
        "id": "view-in-github",
        "colab_type": "text"
      },
      "source": [
        "<a href=\"https://colab.research.google.com/github/MiladB90/Sharp-Concentration-Results-for-Heavy-Tailed-Distributions/blob/main/Plot_Fig_1_Sharp_Concentration_Results_for_Heavy_Tailed_Distributions.ipynb\" target=\"_parent\"><img src=\"https://colab.research.google.com/assets/colab-badge.svg\" alt=\"Open In Colab\"/></a>"
      ]
    },
    {
      "cell_type": "code",
      "execution_count": 1,
      "metadata": {
        "colab": {
          "base_uri": "https://localhost:8080/"
        },
        "id": "2m2zY4HZZf5b",
        "outputId": "8f1b42e8-b9a0-4494-ad99-43af7e73bf8b"
      },
      "outputs": [
        {
          "output_type": "stream",
          "name": "stdout",
          "text": [
            "Mounted at /content/gdrive/\n",
            "/content/gdrive/MyDrive/concentration\n"
          ]
        }
      ],
      "source": [
        "import numpy as np\n",
        "import torch\n",
        "from time import time\n",
        "from os import path, makedirs\n",
        "\n",
        "from google.colab import files, drive\n",
        "\n",
        "drive.mount('/content/gdrive/')\n",
        "if not path.exists('gdrive/MyDrive/concentration/'):\n",
        "  makedirs('gdrive/MyDrive/concentration/')\n",
        "\n",
        "%cd 'gdrive/MyDrive/concentration/'\n",
        "!ls"
      ]
    },
    {
      "cell_type": "code",
      "execution_count": null,
      "metadata": {
        "colab": {
          "base_uri": "https://localhost:8080/"
        },
        "id": "m_rELwyczEbV",
        "outputId": "7c511ba4-227c-4592-a117-b9dcc08e29e8"
      },
      "outputs": [
        {
          "name": "stdout",
          "output_type": "stream",
          "text": [
            "/content/gdrive/.shortcut-targets-by-id/1nRA7iBxrx6yfLR_KBhkJDyfvG2V8gv-M/concentration/test_runs\n",
            "'alpha=2.5_m=10^5_it=10^4.pdf'\t'alpha=5_m=10^2_it=10^5.pdf'\n",
            "'alpha=2_m=10^2_it=10^7.pdf'\t'alpha=5_m=10^2_it=10^6.pdf'\n",
            "'alpha=2_m=10^2_it=10^8.pdf'\t'alpha=5_m=10^4_it=10^4.pdf'\n",
            "'alpha=2_m=10^5_it=10^6.pdf'\t'alpha=5_m=10^5_it=10^4.pdf'\n",
            "'alpha=5_m=10^2_it=10^4.pdf'\n"
          ]
        }
      ],
      "source": [
        "%cd 'test_runs/'\n",
        "!ls"
      ]
    },
    {
      "cell_type": "code",
      "execution_count": null,
      "metadata": {
        "id": "VuCV0nyuaJi_"
      },
      "outputs": [],
      "source": [
        "def mean_z_to_power(k:int):\n",
        "  \n",
        "  if k < 0:\n",
        "    return None\n",
        "  \n",
        "  if k%2 == 1:\n",
        "    return 0\n",
        "  elif k == 0:\n",
        "    return 1\n",
        "  else:\n",
        "    return (k - 1) * mean_z_to_power(k - 2)\n",
        "\n",
        "def var_z_to_power(k:int):\n",
        "\n",
        "  return mean_z_to_power(2 * k) - mean_z_to_power(k)**2\n",
        "\n",
        "\n",
        "def get_t_max(alpha, m, var):\n",
        "\n",
        "  ans = (.5 * var)** (alpha / (2 * alpha - 1))\n",
        "  ans *= m ** (-(alpha - 1)/ (2 * alpha - 1))\n",
        "\n",
        "  return ans\n",
        "\n",
        "def get_c_t(alpha, m, t, var):\n",
        "\n",
        "  coef = .25 * var\n",
        "  coef *= m ** ((1/alpha) - 1)\n",
        "  coef *= t ** ((1/alpha) - 2)\n",
        "\n",
        "  return 1 - coef\n",
        "\n",
        "def bound_larg_t_region(m, t, var, alpha):\n",
        "  from numpy import exp, power\n",
        "\n",
        "  ct = get_c_t(alpha=alpha, m=m, t=t, var=var)\n",
        "  coef1 = - ct * 0.5 * power(m * t, 1 / alpha)\n",
        "  coef2 = - 0.5 * power(m * t, 1 / alpha)\n",
        "\n",
        "  return exp(coef1) + m * exp(coef2)\n",
        "\n",
        "def bound_small_t_region(m, t, var, t_max):\n",
        "  from numpy import exp\n",
        "\n",
        "  if t > t_max:\n",
        "    print('Wrong region')\n",
        "    return None\n",
        "\n",
        "  coef1 = - m * (t**2) / (2 * var)\n",
        "  coef2 = - m * (t_max ** 2) / var\n",
        "\n",
        "  return exp(coef1) + m * exp(coef2)\n",
        "\n",
        "def simulate(test_size = 10**4, repeat=10):\n",
        "  import numpy as np\n",
        "  import torch\n",
        "  from time import time\n",
        "\n",
        "  start = time()\n",
        "  pow_mean = np.array([])\n",
        "  for i in range(repeat):  \n",
        "    if i%1000 == 1:\n",
        "      print('repeat ', i, ' is running')\n",
        "    guassian_matrix = torch.randn(test_size, m, device='cuda')\n",
        "    pow_guassian = guassian_matrix ** pow\n",
        "    pow_mean_tensor = torch.mean(pow_guassian, dim=1)\n",
        "    pow_mean = np.append(pow_mean, np.array(pow_mean_tensor.to('cpu')))\n",
        "\n",
        "  print('calculation time is', str(time() - start)[:4])\n",
        "  print('test_size is 10^', np.log10(pow_mean.size))\n",
        "\n",
        "  return pow_mean\n",
        "  "
      ]
    },
    {
      "cell_type": "code",
      "execution_count": null,
      "metadata": {
        "colab": {
          "background_save": true,
          "base_uri": "https://localhost:8080/"
        },
        "id": "6UgidlAVdmck",
        "outputId": "63aa2714-a8d1-4241-e1be-5702e24cc068"
      },
      "outputs": [
        {
          "name": "stdout",
          "output_type": "stream",
          "text": [
            "t_max is  41.603771615708666\n",
            "repeat  1  is running\n",
            "repeat  1001  is running\n",
            "repeat  2001  is running\n",
            "repeat  3001  is running\n",
            "repeat  4001  is running\n",
            "repeat  5001  is running\n",
            "repeat  6001  is running\n",
            "repeat  7001  is running\n",
            "repeat  8001  is running\n",
            "repeat  9001  is running\n",
            "repeat  10001  is running\n",
            "repeat  11001  is running\n",
            "repeat  12001  is running\n",
            "repeat  13001  is running\n",
            "repeat  14001  is running\n",
            "repeat  15001  is running\n",
            "repeat  16001  is running\n",
            "repeat  17001  is running\n",
            "repeat  18001  is running\n",
            "repeat  19001  is running\n",
            "repeat  20001  is running\n",
            "repeat  21001  is running\n",
            "repeat  22001  is running\n",
            "repeat  23001  is running\n",
            "repeat  24001  is running\n",
            "repeat  25001  is running\n",
            "repeat  26001  is running\n",
            "repeat  27001  is running\n",
            "repeat  28001  is running\n",
            "repeat  29001  is running\n",
            "repeat  30001  is running\n",
            "repeat  31001  is running\n",
            "repeat  32001  is running\n",
            "repeat  33001  is running\n",
            "repeat  34001  is running\n",
            "repeat  35001  is running\n",
            "repeat  36001  is running\n",
            "repeat  37001  is running\n",
            "repeat  38001  is running\n",
            "repeat  39001  is running\n",
            "repeat  40001  is running\n",
            "repeat  41001  is running\n",
            "repeat  42001  is running\n",
            "repeat  43001  is running\n",
            "repeat  44001  is running\n",
            "repeat  45001  is running\n",
            "repeat  46001  is running\n",
            "repeat  47001  is running\n",
            "repeat  48001  is running\n",
            "repeat  49001  is running\n",
            "repeat  50001  is running\n",
            "repeat  51001  is running\n",
            "repeat  52001  is running\n",
            "repeat  53001  is running\n",
            "repeat  54001  is running\n",
            "repeat  55001  is running\n",
            "repeat  56001  is running\n",
            "repeat  57001  is running\n",
            "repeat  58001  is running\n",
            "repeat  59001  is running\n",
            "repeat  60001  is running\n",
            "repeat  61001  is running\n",
            "repeat  62001  is running\n",
            "repeat  63001  is running\n",
            "repeat  64001  is running\n",
            "repeat  65001  is running\n",
            "repeat  66001  is running\n",
            "repeat  67001  is running\n",
            "repeat  68001  is running\n",
            "repeat  69001  is running\n",
            "repeat  70001  is running\n",
            "repeat  71001  is running\n",
            "repeat  72001  is running\n",
            "repeat  73001  is running\n",
            "repeat  74001  is running\n",
            "repeat  75001  is running\n",
            "repeat  76001  is running\n",
            "repeat  77001  is running\n",
            "repeat  78001  is running\n",
            "repeat  79001  is running\n",
            "repeat  80001  is running\n",
            "repeat  81001  is running\n",
            "repeat  82001  is running\n",
            "repeat  83001  is running\n",
            "repeat  84001  is running\n",
            "repeat  85001  is running\n",
            "repeat  86001  is running\n",
            "repeat  87001  is running\n",
            "repeat  88001  is running\n",
            "repeat  89001  is running\n",
            "repeat  90001  is running\n",
            "repeat  91001  is running\n",
            "repeat  92001  is running\n",
            "repeat  93001  is running\n",
            "repeat  94001  is running\n",
            "repeat  95001  is running\n",
            "repeat  96001  is running\n",
            "repeat  97001  is running\n",
            "repeat  98001  is running\n",
            "repeat  99001  is running\n",
            "calculation time is 5165\n",
            "test_size is 10^ 7.0\n",
            "(927.6248114192143, 1309.8789601964986)\n"
          ]
        },
        {
          "data": {
            "image/png": "[encoded data removed]",
            "text/plain": [
              "<Figure size 432x288 with 1 Axes>"
            ]
          },
          "metadata": {},
          "output_type": "display_data"
        }
      ],
      "source": [
        "import numpy as np\n",
        "import matplotlib.pyplot as plt\n",
        "\n",
        "\n",
        "alpha = 5\n",
        "pow = 2 * alpha\n",
        "var = var_z_to_power(pow)\n",
        "mean = mean_z_to_power(pow)\n",
        "\n",
        "m = 10**7\n",
        "t_max = get_t_max(alpha=alpha, m=m, var=var)\n",
        "\n",
        "print('t_max is ', t_max)\n",
        "\n",
        "pow_mean = simulate(test_size = 10**2, repeat=10**5)\n",
        "coef = 1.3\n",
        "plot_end = max(np.max(pow_mean), t_max) * coef - mean\n",
        "\n",
        "region1 = np.arange(t_max, plot_end, .1)\n",
        "bound_region1 = [bound_larg_t_region(m=m, t=x, var=var, alpha=alpha) for x in region1]\n",
        "\n",
        "region2 = np.arange(0, t_max, .01)\n",
        "bound_region2 = [bound_small_t_region(m=m, t=x, var=var, t_max=t_max) for x in region2]\n",
        "\n",
        "\n",
        "plt.plot(region2 + mean, bound_region2, color='red')\n",
        "plt.plot(region1 + mean, bound_region1)\n",
        "\n",
        "\n",
        "# plt.xlim(xmin = mean + left_indent*1.5)\n",
        "plt.ylabel('P(S_m / m > E[Xi] + t)')\n",
        "plt.xlabel('E[Xi] + t')\n",
        "\n",
        "title = 'Xi~ N(0, 1)^' + str(int(pow)) + ',  m=10^' + str(round(np.log10(m)))\n",
        "title += '\\nsimulate for 10^' + str(round(np.log10(pow_mean.size))) + ' iterations'\n",
        "plt.title(title)\n",
        "\n",
        "plt.yscale('log')\n",
        "print(plt.gca().get_xlim())\n",
        "\n",
        "  \n",
        "plt.hist(pow_mean, density=True, color='y', alpha=.25)\n",
        "# plt.yscale('log')\n",
        "# plt.xlabel('S_m')\n",
        "plt.legend(['ubdd for small t', 'ubdd for large t',\n",
        "            'S_m emp density'], loc='upper right')\n",
        "\n",
        "\n",
        "tmax_color = 'indigo'\n",
        "\n",
        "plt.vlines(x=[mean, t_max + mean], ymin=0, ymax= 1, color=['k', tmax_color], linestyles=['-.', '--'])\n",
        "ymax= 10 * (plt.gca().get_ylim()[1])\n",
        "plt.ylim(ymax= ymax)\n",
        "left_indent = - .05\n",
        "right_indent = 1\n",
        "mean_loc =  mean + left_indent\n",
        "plt.text(x= mean_loc, y=bound_region1[-1], s='E[X_i]=' + str(round(mean, 2)), color='k', rotation=90)\n",
        "\n",
        "# tmax_loc = (plt.gca().get_xlim()[1] + 9 * (t_max + mean))/10\n",
        "# tmax_loc = t_max + mean + right_indent\n",
        "tmax_loc = mean + .2\n",
        "plt.text(x= tmax_loc, y= ymax / 10**3, s='t_max=' + str(round(t_max, 2)), color=tmax_color, rotation=0)\n",
        "\n",
        "\n",
        "\n",
        "plot_name = 'alpha=' + str(alpha) + '_m=10^' + str(round(np.log10(m))) + '_it=10^' + str(round(np.log10(pow_mean.size))) + '.pdf'\n",
        "plt.savefig(plot_name)\n",
        "plt.show()\n"
      ]
    },
    {
      "cell_type": "code",
      "execution_count": null,
      "metadata": {
        "id": "ST-LW3uF0bfW"
      },
      "outputs": [],
      "source": [
        "t_max, plot_end, np.max(pow_mean)\n",
        "torch.cuda.empty_cache()\n",
        "del pow_mean"
      ]
    },
    {
      "cell_type": "code",
      "execution_count": null,
      "metadata": {
        "colab": {
          "base_uri": "https://localhost:8080/",
          "height": 333
        },
        "id": "SIg90r6im4qP",
        "outputId": "b0390610-cbbd-4bd5-dbd7-fa74daaeb33b"
      },
      "outputs": [
        {
          "name": "stdout",
          "output_type": "stream",
          "text": [
            "calculation time is 18.7\n",
            "test_size is 10^ 7.0\n"
          ]
        },
        {
          "data": {
            "image/png": "[encoded data removed]",
            "text/plain": [
              "<Figure size 432x288 with 1 Axes>"
            ]
          },
          "metadata": {},
          "output_type": "display_data"
        }
      ],
      "source": [
        "\n",
        "\n",
        "\n",
        "\n",
        "\n",
        "test_size = 10**4\n",
        "\n",
        "def simulate(test_size = 10**4, repeat=10):\n",
        "\n",
        "  start = time()\n",
        "  pow_mean = np.array([])\n",
        "  for i in range(repeat):  \n",
        "    guassian_matrix = torch.randn(test_size, m, device='cuda')\n",
        "    pow_guassian = guassian_matrix ** pow\n",
        "    pow_mean_tensor = torch.mean(pow_guassian, dim=1)\n",
        "    pow_mean = np.append(pow_mean, np.array(pow_mean_tensor.to('cpu')))\n",
        "\n",
        "  print('calculation time is', str(time() - start)[:4])\n",
        "  print('test_size is 10^', np.log10(pow_mean.size))\n",
        "\n",
        "  return pow_mean\n",
        "pow_mean = simulate(repeat=1000)  \n",
        "plt.hist(pow_mean, density=True)\n",
        "plt.yscale('log')\n",
        "plt.xlabel('S_m')\n",
        "plt.title('Empirical density of S_m,  simulate for 10^' + str(round(np.log10(pow_mean.size))) + ' iterations')\n",
        "plt.show()\n",
        "\n"
      ]
    },
    {
      "cell_type": "code",
      "execution_count": null,
      "metadata": {
        "id": "Ft-CmCQ8ipv3"
      },
      "outputs": [],
      "source": []
    },
    {
      "cell_type": "code",
      "execution_count": null,
      "metadata": {
        "colab": {
          "base_uri": "https://localhost:8080/"
        },
        "id": "n2Cb-DhbZkKy",
        "outputId": "c0147404-14e7-4479-caf7-8576dc84f851"
      },
      "outputs": [
        {
          "data": {
            "text/plain": [
              "tensor(104.8401, device='cuda:0')"
            ]
          },
          "execution_count": 91,
          "metadata": {},
          "output_type": "execute_result"
        }
      ],
      "source": [
        "a = torch.tensor([[1, 2, 5], [3, 4., 6]])\n",
        "# print(a, a * a, a**3, torch.mean(a, dim=0))\n",
        "torch.mean(pow_guassian)"
      ]
    },
    {
      "cell_type": "code",
      "execution_count": null,
      "metadata": {
        "colab": {
          "base_uri": "https://localhost:8080/"
        },
        "id": "CXxDOLfnv_wc",
        "outputId": "e0ad2182-00fc-48eb-c3ed-a02767fd8663"
      },
      "outputs": [
        {
          "name": "stdout",
          "output_type": "stream",
          "text": [
            "653836050 8.81546886222852 6.5383605\n"
          ]
        }
      ],
      "source": [
        "a = var_z_to_power(10)\n",
        "print(a, np.log10(a), a / 10**8)"
      ]
    }
  ],
  "metadata": {
    "accelerator": "GPU",
    "colab": {
      "machine_shape": "hm",
      "provenance": [],
      "authorship_tag": "ABX9TyMZG7kUdZ2PtFF0X0LYZbaN",
      "include_colab_link": true
    },
    "kernelspec": {
      "display_name": "Python 3",
      "name": "python3"
    },
    "language_info": {
      "name": "python"
    }
  },
  "nbformat": 4,
  "nbformat_minor": 0
}